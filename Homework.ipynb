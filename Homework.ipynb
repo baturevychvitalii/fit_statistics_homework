{
 "cells": [
  {
   "cell_type": "markdown",
   "id": "ca646043",
   "metadata": {},
   "source": [
    "# Data and parameters(K, L, M)\n",
    "\n",
    "according to instructions on coursepages"
   ]
  },
  {
   "cell_type": "code",
   "execution_count": 1,
   "id": "2cc3e24b",
   "metadata": {},
   "outputs": [
    {
     "name": "stdout",
     "output_type": "stream",
     "text": [
      "K=10\n",
      "L=10\n",
      "M=6\n"
     ]
    }
   ],
   "source": [
    "# I was born on 10.02.1998\n",
    "K=10\n",
    "# given the name and surname: Vitalii Baturevych\n",
    "L=len('Baturevych')\n",
    "M = ((K+L)*47)%11+1\n",
    "print('K={}\\nL={}\\nM={}'.format(K,L,M))"
   ]
  },
  {
   "cell_type": "markdown",
   "id": "e1069f62",
   "metadata": {},
   "source": [
    "# Read dataframe\n",
    "since dataframe is in `.rda` file - i'll use `pyreadr` to 'convert' it to pandas dataframe"
   ]
  },
  {
   "cell_type": "code",
   "execution_count": 2,
   "id": "1d5abeff",
   "metadata": {},
   "outputs": [],
   "source": [
    "import pyreadr\n",
    "import pandas as pd\n",
    "tmp = pyreadr.read_r('Sleuth2/data/case0302.rda')"
   ]
  },
  {
   "cell_type": "code",
   "execution_count": 3,
   "id": "5eb99662",
   "metadata": {},
   "outputs": [
    {
     "name": "stdout",
     "output_type": "stream",
     "text": [
      "odict_keys(['case0302'])\n"
     ]
    }
   ],
   "source": [
    "print(tmp.keys())"
   ]
  },
  {
   "cell_type": "code",
   "execution_count": 4,
   "id": "dd9d2c49",
   "metadata": {},
   "outputs": [],
   "source": [
    "data = tmp['case0302']"
   ]
  },
  {
   "cell_type": "code",
   "execution_count": 5,
   "id": "8b366f5f",
   "metadata": {},
   "outputs": [
    {
     "data": {
      "text/html": [
       "<div>\n",
       "<style scoped>\n",
       "    .dataframe tbody tr th:only-of-type {\n",
       "        vertical-align: middle;\n",
       "    }\n",
       "\n",
       "    .dataframe tbody tr th {\n",
       "        vertical-align: top;\n",
       "    }\n",
       "\n",
       "    .dataframe thead th {\n",
       "        text-align: right;\n",
       "    }\n",
       "</style>\n",
       "<table border=\"1\" class=\"dataframe\">\n",
       "  <thead>\n",
       "    <tr style=\"text-align: right;\">\n",
       "      <th></th>\n",
       "      <th>Dioxin</th>\n",
       "      <th>Veteran</th>\n",
       "    </tr>\n",
       "    <tr>\n",
       "      <th>rownames</th>\n",
       "      <th></th>\n",
       "      <th></th>\n",
       "    </tr>\n",
       "  </thead>\n",
       "  <tbody>\n",
       "    <tr>\n",
       "      <th>1</th>\n",
       "      <td>0.0</td>\n",
       "      <td>Vietnam</td>\n",
       "    </tr>\n",
       "    <tr>\n",
       "      <th>2</th>\n",
       "      <td>0.0</td>\n",
       "      <td>Vietnam</td>\n",
       "    </tr>\n",
       "    <tr>\n",
       "      <th>3</th>\n",
       "      <td>0.0</td>\n",
       "      <td>Vietnam</td>\n",
       "    </tr>\n",
       "    <tr>\n",
       "      <th>4</th>\n",
       "      <td>0.0</td>\n",
       "      <td>Vietnam</td>\n",
       "    </tr>\n",
       "    <tr>\n",
       "      <th>5</th>\n",
       "      <td>0.0</td>\n",
       "      <td>Vietnam</td>\n",
       "    </tr>\n",
       "    <tr>\n",
       "      <th>...</th>\n",
       "      <td>...</td>\n",
       "      <td>...</td>\n",
       "    </tr>\n",
       "    <tr>\n",
       "      <th>739</th>\n",
       "      <td>9.0</td>\n",
       "      <td>Other</td>\n",
       "    </tr>\n",
       "    <tr>\n",
       "      <th>740</th>\n",
       "      <td>9.0</td>\n",
       "      <td>Other</td>\n",
       "    </tr>\n",
       "    <tr>\n",
       "      <th>741</th>\n",
       "      <td>10.0</td>\n",
       "      <td>Other</td>\n",
       "    </tr>\n",
       "    <tr>\n",
       "      <th>742</th>\n",
       "      <td>11.0</td>\n",
       "      <td>Other</td>\n",
       "    </tr>\n",
       "    <tr>\n",
       "      <th>743</th>\n",
       "      <td>15.0</td>\n",
       "      <td>Other</td>\n",
       "    </tr>\n",
       "  </tbody>\n",
       "</table>\n",
       "<p>743 rows × 2 columns</p>\n",
       "</div>"
      ],
      "text/plain": [
       "          Dioxin  Veteran\n",
       "rownames                 \n",
       "1            0.0  Vietnam\n",
       "2            0.0  Vietnam\n",
       "3            0.0  Vietnam\n",
       "4            0.0  Vietnam\n",
       "5            0.0  Vietnam\n",
       "...          ...      ...\n",
       "739          9.0    Other\n",
       "740          9.0    Other\n",
       "741         10.0    Other\n",
       "742         11.0    Other\n",
       "743         15.0    Other\n",
       "\n",
       "[743 rows x 2 columns]"
      ]
     },
     "metadata": {},
     "output_type": "display_data"
    }
   ],
   "source": [
    "display(data)"
   ]
  },
  {
   "cell_type": "markdown",
   "id": "f562f98a",
   "metadata": {},
   "source": [
    "# Brief broblem description\n",
    " In 1987, researchers measured the TCDD concentration in blood samples\n",
    " from 646 U.S. veterans of the Vietnam War and from 97 U.S. veterans\n",
    " who did not serve in Vietnam. TCDD is a carcinogenic dioxin in the\n",
    " herbicide called Agent Orange, which was used to clear jungle hiding\n",
    " areas by the U.S. military in the Vietnam War between 1962 and 1970.\n",
    " \n",
    " We'll meet 2 groups of veterans in our dataset\n",
    " * ones who were doing their service in Vietnam during chemical wars\n",
    " * the ones who served in other parts of the world, where **no** chemical weapons were used"
   ]
  },
  {
   "cell_type": "markdown",
   "id": "0e95b24b",
   "metadata": {},
   "source": [
    "# Work with `data` pandas dataframe"
   ]
  },
  {
   "cell_type": "code",
   "execution_count": 26,
   "id": "6ff5ed5d",
   "metadata": {},
   "outputs": [],
   "source": [
    "import matplotlib\n",
    "import matplotlib.pyplot as plt\n",
    "import numpy\n",
    "%matplotlib notebook"
   ]
  },
  {
   "cell_type": "markdown",
   "id": "f7114a02",
   "metadata": {},
   "source": [
    "Let's check if there are really 2 groups in dataset"
   ]
  },
  {
   "cell_type": "code",
   "execution_count": 35,
   "id": "aa66e5b8",
   "metadata": {},
   "outputs": [
    {
     "name": "stdout",
     "output_type": "stream",
     "text": [
      "['Vietnam', 'Other']\n",
      "Categories (2, object): ['Other', 'Vietnam']\n"
     ]
    }
   ],
   "source": [
    "categories =data['Veteran'].unique()\n",
    "print(categories)"
   ]
  },
  {
   "cell_type": "markdown",
   "id": "9be02573",
   "metadata": {},
   "source": [
    "we can see that there are 2 types indeed: `Other` and `Vietnam`\n",
    "\n",
    "let's make 2 separate dataframes for each"
   ]
  },
  {
   "cell_type": "code",
   "execution_count": 40,
   "id": "73405346",
   "metadata": {},
   "outputs": [
    {
     "data": {
      "text/plain": [
       "rownames\n",
       "1       0.0\n",
       "2       0.0\n",
       "3       0.0\n",
       "4       0.0\n",
       "5       0.0\n",
       "       ... \n",
       "642    13.0\n",
       "643    15.0\n",
       "644    16.0\n",
       "645    25.0\n",
       "646    45.0\n",
       "Name: Dioxin, Length: 646, dtype: float64"
      ]
     },
     "metadata": {},
     "output_type": "display_data"
    },
    {
     "data": {
      "text/plain": [
       "rownames\n",
       "647     0.0\n",
       "648     0.0\n",
       "649     0.0\n",
       "650     1.0\n",
       "651     2.0\n",
       "       ... \n",
       "739     9.0\n",
       "740     9.0\n",
       "741    10.0\n",
       "742    11.0\n",
       "743    15.0\n",
       "Name: Dioxin, Length: 97, dtype: float64"
      ]
     },
     "metadata": {},
     "output_type": "display_data"
    }
   ],
   "source": [
    "vietnam = data[data['Veteran'] == categories[0]]['Dioxin']\n",
    "other = data[data['Veteran'] == categories[1]]['Dioxin']\n",
    "display(vietnam, other)"
   ]
  },
  {
   "cell_type": "markdown",
   "id": "cd73e4ea",
   "metadata": {},
   "source": [
    "as it was written in the description we got 646 Vietnam veterans and 97 veterans from other regions, so it sits perfectly\n",
    "\n",
    "### task 1\n",
    "Pro každu skupinu zvlášť odhadněte střední hodnotu, rozptyl a medián příslušného rozdělení."
   ]
  },
  {
   "cell_type": "code",
   "execution_count": 59,
   "id": "32867c8f",
   "metadata": {},
   "outputs": [
    {
     "name": "stdout",
     "output_type": "stream",
     "text": [
      "Stredni hodnota\n",
      "\tVietnam: 4.260061919504644\n",
      "\tOther: 4.185567010309279\n",
      "Rozptyl\n",
      "\tVietnam: 6.972615476042137\n",
      "\tOther: 5.2439154001487935\n",
      "Median\n",
      "\tVietnam: 4.0\n",
      "\tOther: 4.0\n"
     ]
    }
   ],
   "source": [
    "print('Stredni hodnota\\n\\tVietnam: {}\\n\\tOther: {}'.format(numpy.mean(vietnam),numpy.mean(other)))\n",
    "print('Rozptyl\\n\\tVietnam: {}\\n\\tOther: {}'.format(numpy.var(vietnam),numpy.var(other)))\n",
    "print('Median\\n\\tVietnam: {}\\n\\tOther: {}'.format(numpy.median(vietnam),numpy.median(other)))"
   ]
  },
  {
   "cell_type": "markdown",
   "id": "1fecd258",
   "metadata": {},
   "source": [
    "### task 2\n",
    "Pro každou skupinu zvlášť odhadněte hustotu a distribuční funkci pomocí histogramu a empirické distribuční funkce."
   ]
  },
  {
   "cell_type": "code",
   "execution_count": null,
   "id": "a095d062",
   "metadata": {},
   "outputs": [],
   "source": []
  }
 ],
 "metadata": {
  "kernelspec": {
   "display_name": "Python 3 (ipykernel)",
   "language": "python",
   "name": "python3"
  },
  "language_info": {
   "codemirror_mode": {
    "name": "ipython",
    "version": 3
   },
   "file_extension": ".py",
   "mimetype": "text/x-python",
   "name": "python",
   "nbconvert_exporter": "python",
   "pygments_lexer": "ipython3",
   "version": "3.10.1"
  }
 },
 "nbformat": 4,
 "nbformat_minor": 5
}
