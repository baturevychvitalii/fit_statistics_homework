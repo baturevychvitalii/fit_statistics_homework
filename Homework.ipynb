{
 "cells": [
  {
   "cell_type": "markdown",
   "id": "ca646043",
   "metadata": {},
   "source": [
    "# Data a parametry (K, L, M)\n",
    "\n",
    "podle instrukce na courses"
   ]
  },
  {
   "cell_type": "code",
   "execution_count": 17,
   "id": "2cc3e24b",
   "metadata": {},
   "outputs": [
    {
     "name": "stdout",
     "output_type": "stream",
     "text": [
      "K=10\n",
      "L=10\n",
      "M=6\n"
     ]
    }
   ],
   "source": [
    "# byl jsem narozen 10.02.1998\n",
    "K=10\n",
    "# a pojmenovali mě Vitalii Baturevych\n",
    "L=len('Baturevych')\n",
    "M = ((K+L)*47)%11+1\n",
    "print('K={}\\nL={}\\nM={}'.format(K,L,M))"
   ]
  },
  {
   "cell_type": "code",
   "execution_count": null,
   "id": "dff0c5fa",
   "metadata": {},
   "outputs": [],
   "source": []
  }
 ],
 "metadata": {
  "kernelspec": {
   "display_name": "Python 3 (ipykernel)",
   "language": "python",
   "name": "python3"
  },
  "language_info": {
   "codemirror_mode": {
    "name": "ipython",
    "version": 3
   },
   "file_extension": ".py",
   "mimetype": "text/x-python",
   "name": "python",
   "nbconvert_exporter": "python",
   "pygments_lexer": "ipython3",
   "version": "3.10.1"
  }
 },
 "nbformat": 4,
 "nbformat_minor": 5
}
